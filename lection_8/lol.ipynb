{
 "cells": [
  {
   "cell_type": "code",
   "execution_count": 7,
   "id": "ab7bbc2c",
   "metadata": {},
   "outputs": [
    {
     "name": "stdout",
     "output_type": "stream",
     "text": [
      "ghhgh\n"
     ]
    }
   ],
   "source": [
    "import numpy\n",
    "print(\"ghhgh\")\n"
   ]
  }
 ],
 "metadata": {
  "kernelspec": {
   "display_name": "lection-8",
   "language": "python",
   "name": "python3"
  },
  "language_info": {
   "codemirror_mode": {
    "name": "ipython",
    "version": 3
   },
   "file_extension": ".py",
   "mimetype": "text/x-python",
   "name": "python",
   "nbconvert_exporter": "python",
   "pygments_lexer": "ipython3",
   "version": "3.13.1"
  }
 },
 "nbformat": 4,
 "nbformat_minor": 5
}
