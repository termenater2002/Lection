{
 "cells": [
  {
   "cell_type": "code",
   "execution_count": 1,
   "id": "0a6cfa96",
   "metadata": {},
   "outputs": [
    {
     "name": "stdout",
     "output_type": "stream",
     "text": [
      "[1]\n",
      "[1, 1]\n",
      "[1, 2, 1]\n",
      "[1, 3, 3, 1]\n",
      "[1, 4, 6, 4, 1]\n",
      "[1, 5, 10, 10, 5, 1]\n",
      "[1, 6, 15, 20, 15, 6, 1]\n",
      "[1, 7, 21, 35, 35, 21, 7, 1]\n",
      "[1, 8, 28, 56, 70, 56, 28, 8, 1]\n",
      "[1, 9, 36, 84, 126, 126, 84, 36, 9, 1]\n",
      "              1 \n",
      "             1 1 \n",
      "            1 2 1 \n",
      "           1 3 3 1 \n",
      "          1 4 6 4 1 \n",
      "        1 5 10 10 5 1 \n",
      "      1 6 15 20 15 6 1 \n",
      "    1 7 21 35 35 21 7 1 \n",
      "  1 8 28 56 70 56 28 8 1 \n",
      "1 9 36 84 126 126 84 36 9 1 \n"
     ]
    }
   ],
   "source": [
    "treug = []\n",
    "for i in range(10):\n",
    "    sloy = [1]\n",
    "    \n",
    "    if treug != []:\n",
    "        last_sloy = treug[-1]\n",
    "        for j in range(1, i):\n",
    "            sloy.append(last_sloy[j-1] + last_sloy[j])\n",
    "        sloy.append(1)\n",
    "    \n",
    "    treug.append(sloy)\n",
    "\n",
    "for sloy in treug:\n",
    "    print(sloy)\n",
    "   \n",
    "g = 15\n",
    "for i in treug:\n",
    "    g = g - 1\n",
    "    if g <= 9:\n",
    "        g = g - 1\n",
    "    if g <= 1:\n",
    "        g = g - 1        \n",
    "    test_sloy = ' ' * g\n",
    "    for ii in i:\n",
    "        test_sloy = test_sloy + str(ii) + \" \"\n",
    "    print(test_sloy)\n"
   ]
  },
  {
   "cell_type": "markdown",
   "id": "87cd8cbd",
   "metadata": {},
   "source": [
    "# вывод отформатированного треугольника паскаля\n",
    "# до 4 уровня включительно"
   ]
  }
 ],
 "metadata": {
  "kernelspec": {
   "display_name": "lection-2",
   "language": "python",
   "name": "python3"
  },
  "language_info": {
   "codemirror_mode": {
    "name": "ipython",
    "version": 3
   },
   "file_extension": ".py",
   "mimetype": "text/x-python",
   "name": "python",
   "nbconvert_exporter": "python",
   "pygments_lexer": "ipython3",
   "version": "3.13.1"
  }
 },
 "nbformat": 4,
 "nbformat_minor": 5
}
