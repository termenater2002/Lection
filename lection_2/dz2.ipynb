{
 "cells": [
  {
   "cell_type": "code",
   "execution_count": null,
   "id": "ab699e66",
   "metadata": {},
   "outputs": [
    {
     "name": "stdout",
     "output_type": "stream",
     "text": [
      "нубасик\n"
     ]
    }
   ],
   "source": [
    "lev = -1000\n",
    "prav = 1000   \n",
    "while lev <= prav:\n",
    "        sr = (lev + prav) // 2\n",
    "\n",
    "        ya = input(f\"Ваше число {sr}? Ответ (<, >, =, exit)\")\n",
    "\n",
    "        if ya == \"=\":\n",
    "            print(f\"ну и фигню ты загадал {sr}\")\n",
    "            break\n",
    "        elif ya == \"<\":\n",
    "            prav = sr - 1\n",
    "        elif ya == \">\":\n",
    "            lev = sr + 1\n",
    "        elif ya == \"exit\":\n",
    "            print(\"нубасик\")\n",
    "            break\n",
    "        else:\n",
    "            print(\"позор.\")"
   ]
  },
  {
   "cell_type": "markdown",
   "id": "640073d3",
   "metadata": {},
   "source": [
    "# дан регион [-1000, 1000]\n",
    "# пользователь загадал какое-то целое число\n",
    "\n",
    "# задача программы - замучать пользователя вопросами;\n",
    "# определить середину региона и спросить у пользователя: \n",
    "#   число <, > или == этой середине \n",
    "# если == - победа\n",
    "# если < или > - отсекаем ненужную половину региона\n",
    "# если пользователь написал exit - выйти из программы\n",
    "# программа считается работающей, если мы в итоге находим число\n",
    "\n",
    "# доп балл за возможность ввести регион в начале программы"
   ]
  }
 ],
 "metadata": {
  "kernelspec": {
   "display_name": "lection-2",
   "language": "python",
   "name": "python3"
  },
  "language_info": {
   "codemirror_mode": {
    "name": "ipython",
    "version": 3
   },
   "file_extension": ".py",
   "mimetype": "text/x-python",
   "name": "python",
   "nbconvert_exporter": "python",
   "pygments_lexer": "ipython3",
   "version": "3.13.1"
  }
 },
 "nbformat": 4,
 "nbformat_minor": 5
}
