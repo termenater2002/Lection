{
 "cells": [
  {
   "cell_type": "code",
   "execution_count": null,
   "id": "ab699e66",
   "metadata": {},
   "outputs": [
    {
     "name": "stdout",
     "output_type": "stream",
     "text": [
      "\n",
      "ну и фигню ты загадал 969\n"
     ]
    }
   ],
   "source": [
    "lev = -1000\n",
    "prav = 1000   \n",
    "while lev <= prav:\n",
    "        sr = (lev + prav) // 2\n",
    "\n",
    "        ya = input(f\"Ваше число {sr}? Ответ (<, >, =, exit): \")\n",
    "\n",
    "        if ya == \"=\":\n",
    "            print(f\"\\nну и фигню ты загадал {sr}\")\n",
    "            break\n",
    "        elif ya == \"<\":\n",
    "            prav = sr - 1\n",
    "        elif ya == \">\":\n",
    "            lev = sr + 1\n",
    "        elif ya == \"exit\":\n",
    "            print(\"нубасик\")\n",
    "            break\n",
    "        else:\n",
    "            print(\"позор.\")"
   ]
  }
 ],
 "metadata": {
  "kernelspec": {
   "display_name": "lection-2",
   "language": "python",
   "name": "python3"
  },
  "language_info": {
   "codemirror_mode": {
    "name": "ipython",
    "version": 3
   },
   "file_extension": ".py",
   "mimetype": "text/x-python",
   "name": "python",
   "nbconvert_exporter": "python",
   "pygments_lexer": "ipython3",
   "version": "3.13.1"
  }
 },
 "nbformat": 4,
 "nbformat_minor": 5
}
