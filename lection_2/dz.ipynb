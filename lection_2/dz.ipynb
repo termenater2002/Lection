{
 "cells": [
  {
   "cell_type": "code",
   "execution_count": 1,
   "id": "6401347f",
   "metadata": {},
   "outputs": [
    {
     "name": "stdout",
     "output_type": "stream",
     "text": [
      "Извините, но вы лох или даже задание прочитать не мож\n"
     ]
    }
   ],
   "source": [
    "g = input(\"Хотите сняться? (да/нет): \").lower()\n",
    "\n",
    "if g == \"да\":\n",
    "    gg = input(\"Какую роль хотите? (Халк/Локи): \").lower()\n",
    "    \n",
    "    if gg == \"халк\":\n",
    "        ggg = input(\"Сколько бицепс в см? (число ток)\")\n",
    "        for i in ggg:\n",
    "            if i not in \"1234567890\":\n",
    "                ggg = 0\n",
    "        if int(ggg) < 60:\n",
    "            print(\"Извините, но вы лох или даже задание прочитать не мож\")\n",
    "        elif int(ggg) > 60:\n",
    "            print(\"приняты как халк\")\n",
    "\n",
    "    \n",
    "    elif gg == \"локи\":\n",
    "        l = input(\"Кого любите? (маму/папу): \").lower()\n",
    "        if l == \"папу\":\n",
    "            print(\"Извините, но у вас нет отца\")\n",
    "        elif l == \"маму\":\n",
    "            print(\"Отправляйтесь к папе и спросите, кого он больше любит\")\n",
    "        else:\n",
    "            print(\"позор.\")\n",
    "    \n",
    "    else:\n",
    "        print(\"позор.\")\n",
    "\n",
    "elif g == \"нет\":\n",
    "    print(\"ну типо ок\")\n",
    "\n",
    "else:\n",
    "    print(\"позор.\")"
   ]
  }
 ],
 "metadata": {
  "kernelspec": {
   "display_name": "lection-2",
   "language": "python",
   "name": "python3"
  },
  "language_info": {
   "codemirror_mode": {
    "name": "ipython",
    "version": 3
   },
   "file_extension": ".py",
   "mimetype": "text/x-python",
   "name": "python",
   "nbconvert_exporter": "python",
   "pygments_lexer": "ipython3",
   "version": "3.13.1"
  }
 },
 "nbformat": 4,
 "nbformat_minor": 5
}
