{
 "cells": [
  {
   "cell_type": "code",
   "execution_count": 1,
   "id": "97637cf1",
   "metadata": {},
   "outputs": [
    {
     "data": {
      "text/html": [
       "<pre style=\"white-space:pre;overflow-x:auto;line-height:normal;font-family:Menlo,'DejaVu Sans Mono',consolas,'Courier New',monospace\">HkLjFgIlOfGjHl\n",
       "</pre>\n"
      ],
      "text/plain": [
       "HkLjFgIlOfGjHl\n"
      ]
     },
     "metadata": {},
     "output_type": "display_data"
    },
    {
     "data": {
      "text/html": [
       "<pre style=\"white-space:pre;overflow-x:auto;line-height:normal;font-family:Menlo,'DejaVu Sans Mono',consolas,'Courier New',monospace\"><span style=\"color: #000080; text-decoration-color: #000080\">Hello</span> GAY\n",
       "</pre>\n"
      ],
      "text/plain": [
       "\u001b[34mHello\u001b[0m GAY\n"
      ]
     },
     "metadata": {},
     "output_type": "display_data"
    }
   ],
   "source": [
    "from rich import print\n",
    "# task 1\n",
    "# создать файл my_functions.py с функциями greet и change_name\n",
    "# change_name - принимает строку, а возвращает измененное имя, где каждая вторая буква - большая\n",
    "# greet - принимает строку, ничего не возвращает, а просто принтит \"Hello имя\" с помощью украшений из rich print\n",
    "def change_name(f: str):\n",
    "    g = 0\n",
    "    gg = \"\"\n",
    "    for i in f:\n",
    "        if g % 2 == 0:\n",
    "            gg += i.title()\n",
    "        else:\n",
    "            gg += i\n",
    "        g += 1\n",
    "    return gg\n",
    "\n",
    "print(change_name(\"hkljfgilofgjhl\"))\n",
    "\n",
    "def greet(f: str):\n",
    "    return f\"[blue]Hello[/blue] {f}\"\n",
    "    \n",
    "print(greet(\"GAY\"))"
   ]
  },
  {
   "cell_type": "code",
   "execution_count": 2,
   "id": "ee6c1a6b",
   "metadata": {},
   "outputs": [
    {
     "data": {
      "text/html": [
       "<pre style=\"white-space:pre;overflow-x:auto;line-height:normal;font-family:Menlo,'DejaVu Sans Mono',consolas,'Courier New',monospace\"><span style=\"color: #008080; text-decoration-color: #008080; font-weight: bold\">0</span> <span style=\"color: #008080; text-decoration-color: #008080; font-weight: bold\">1</span> <span style=\"color: #008080; text-decoration-color: #008080; font-weight: bold\">1</span> <span style=\"color: #008080; text-decoration-color: #008080; font-weight: bold\">2</span> <span style=\"color: #008080; text-decoration-color: #008080; font-weight: bold\">3</span> <span style=\"color: #008080; text-decoration-color: #008080; font-weight: bold\">5</span> <span style=\"color: #008080; text-decoration-color: #008080; font-weight: bold\">8</span> <span style=\"color: #008080; text-decoration-color: #008080; font-weight: bold\">13</span> <span style=\"color: #008080; text-decoration-color: #008080; font-weight: bold\">21</span> <span style=\"color: #008080; text-decoration-color: #008080; font-weight: bold\">34</span> <span style=\"color: #008080; text-decoration-color: #008080; font-weight: bold\">55</span> <span style=\"color: #008080; text-decoration-color: #008080; font-weight: bold\">89</span> <span style=\"color: #008080; text-decoration-color: #008080; font-weight: bold\">144</span> <span style=\"color: #008080; text-decoration-color: #008080; font-weight: bold\">233</span> <span style=\"color: #008080; text-decoration-color: #008080; font-weight: bold\">377</span> <span style=\"color: #008080; text-decoration-color: #008080; font-weight: bold\">610</span> <span style=\"color: #008080; text-decoration-color: #008080; font-weight: bold\">987</span> <span style=\"color: #008080; text-decoration-color: #008080; font-weight: bold\">1597</span> <span style=\"color: #008080; text-decoration-color: #008080; font-weight: bold\">2584</span> <span style=\"color: #008080; text-decoration-color: #008080; font-weight: bold\">4181</span> <span style=\"color: #008080; text-decoration-color: #008080; font-weight: bold\">6765</span> \n",
       "</pre>\n"
      ],
      "text/plain": [
       "\u001b[1;36m0\u001b[0m \u001b[1;36m1\u001b[0m \u001b[1;36m1\u001b[0m \u001b[1;36m2\u001b[0m \u001b[1;36m3\u001b[0m \u001b[1;36m5\u001b[0m \u001b[1;36m8\u001b[0m \u001b[1;36m13\u001b[0m \u001b[1;36m21\u001b[0m \u001b[1;36m34\u001b[0m \u001b[1;36m55\u001b[0m \u001b[1;36m89\u001b[0m \u001b[1;36m144\u001b[0m \u001b[1;36m233\u001b[0m \u001b[1;36m377\u001b[0m \u001b[1;36m610\u001b[0m \u001b[1;36m987\u001b[0m \u001b[1;36m1597\u001b[0m \u001b[1;36m2584\u001b[0m \u001b[1;36m4181\u001b[0m \u001b[1;36m6765\u001b[0m \n"
      ]
     },
     "metadata": {},
     "output_type": "display_data"
    }
   ],
   "source": [
    "from functools import lru_cache\n",
    "\n",
    "# task 2\n",
    "# создать **рекурсивную** функцию fibonacci, которая принимает целое число N\n",
    "# и возвращает N-ное число в последовательности Фибоначчи\n",
    "# важно - у вас при больших числах (больше 20 и далее) - программа будет тупить\n",
    "# пока что это норма\n",
    "\n",
    "\n",
    "MY_CACHE: int = {}\n",
    "\n",
    "def fib(n):\n",
    "    if n in MY_CACHE:\n",
    "        return MY_CACHE[n]\n",
    "    if n == 0:\n",
    "        return 0\n",
    "    elif n == 1:\n",
    "        return 1\n",
    "    else:\n",
    "        ggg = fib(n-1) + fib(n-2)\n",
    "        MY_CACHE[n] = ggg \n",
    "        return ggg\n",
    "        \n",
    "\n",
    "g = \"\"\n",
    "for i in range(21):\n",
    "    g += str(fib(i)) + ' '\n",
    "    \n",
    "print(g)"
   ]
  }
 ],
 "metadata": {
  "kernelspec": {
   "display_name": "lection-2",
   "language": "python",
   "name": "python3"
  },
  "language_info": {
   "codemirror_mode": {
    "name": "ipython",
    "version": 3
   },
   "file_extension": ".py",
   "mimetype": "text/x-python",
   "name": "python",
   "nbconvert_exporter": "python",
   "pygments_lexer": "ipython3",
   "version": "3.13.1"
  }
 },
 "nbformat": 4,
 "nbformat_minor": 5
}
